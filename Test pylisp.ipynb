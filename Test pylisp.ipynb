{
 "cells": [
  {
   "cell_type": "code",
   "execution_count": 1,
   "id": "021ee52c-4950-41d6-90a6-3209eaac7969",
   "metadata": {},
   "outputs": [],
   "source": [
    "from pylisp import *"
   ]
  },
  {
   "cell_type": "code",
   "execution_count": 2,
   "id": "cf4a9e61-096b-4a63-972d-53aff0561cca",
   "metadata": {},
   "outputs": [
    {
     "name": "stdout",
     "output_type": "stream",
     "text": [
      "> 1\n",
      "1\n",
      "> (+ 4 5)\n",
      "9\n",
      "> (define a 10)\n",
      "> a\n",
      "10\n",
      "> (if #t 10 20)\n",
      "10\n",
      "> (if #f 10 20)\n",
      "10\n",
      "> (+ 4 5)\n",
      "9\n",
      "> (lambda () 4)\n",
      "<pylisp.Procedure object at 0x7feb9ad7c670>\n",
      "> (lambda (x) (+ x 1))\n",
      "<pylisp.Procedure object at 0x7feb9ad7c520>\n",
      "> (define f (lambda (x) (+ x 1)))\n",
      "> (f 4)\n",
      "5\n"
     ]
    }
   ],
   "source": [
    "try_eval(\"1\")\n",
    "try_eval(\"(+ 4 5)\")\n",
    "try_eval(\"(define a 10)\")\n",
    "try_eval(\"a\")\n",
    "try_eval(\"(if #t 10 20)\")\n",
    "try_eval(\"(if #f 10 20)\")\n",
    "try_eval(\"(+ 4 5)\")\n",
    "try_eval(\"(lambda () 4)\")\n",
    "try_eval(\"(lambda (x) (+ x 1))\")\n",
    "try_eval(\"(define f (lambda (x) (+ x 1)))\")\n",
    "try_eval(\"(f 4)\")"
   ]
  },
  {
   "cell_type": "code",
   "execution_count": 5,
   "id": "b48b7b7d-819c-4036-917e-3e2e3684352f",
   "metadata": {},
   "outputs": [
    {
     "name": "stdout",
     "output_type": "stream",
     "text": [
      "> (define fact (lambda (n) (if (<= n 1) 1 (* n (fact (- n 1))))))\n",
      "> (fact 5)\n",
      "120\n"
     ]
    }
   ],
   "source": [
    "try_eval(\"(define fact (lambda (n) (if (<= n 1) 1 (* n (fact (- n 1))))))\")\n",
    "try_eval(\"(fact 5)\")"
   ]
  },
  {
   "cell_type": "code",
   "execution_count": 6,
   "id": "9bb57f0d-08e4-41e2-9429-31b08a01af59",
   "metadata": {},
   "outputs": [
    {
     "name": "stdout",
     "output_type": "stream",
     "text": [
      "> (define cons              (lambda (p q)                (lambda (m) (m p q))))\n",
      "> (define car              (lambda (pair)                 (pair (lambda (p q) p))))\n",
      "> (define cdr               (lambda (pair)                 (pair (lambda (p q) q))))\n",
      "> (define x (cons 1 2))\n",
      "> (car x)\n",
      "1\n",
      "> (cdr x)\n",
      "2\n"
     ]
    }
   ],
   "source": [
    "try_eval(\"(define cons \\\n",
    "             (lambda (p q) \\\n",
    "               (lambda (m) (m p q))))\")\n",
    "\n",
    "try_eval(\"(define car \\\n",
    "             (lambda (pair)  \\\n",
    "               (pair (lambda (p q) p))))\")\n",
    "\n",
    "try_eval(\"(define cdr  \\\n",
    "             (lambda (pair)  \\\n",
    "               (pair (lambda (p q) q))))\")\n",
    "\n",
    "try_eval(\"(define x (cons 1 2))\")\n",
    "try_eval(\"(car x)\")\n",
    "try_eval(\"(cdr x)\")"
   ]
  },
  {
   "cell_type": "code",
   "execution_count": 7,
   "id": "607161cc-4027-4d80-bf45-fd02615567cb",
   "metadata": {},
   "outputs": [
    {
     "name": "stdout",
     "output_type": "stream",
     "text": [
      "> (define (make-withdraw balance)               (lambda (amount)                (begin                 (set! balance (- balance amount))                 balance)))\n",
      "> (define w1 (make-withdraw 100))\n",
      "> (define w2 (make-withdraw 100))\n",
      "> (w1 10)\n",
      "90\n",
      "> (w1 20)\n",
      "70\n",
      "> (w2 20)\n",
      "80\n"
     ]
    }
   ],
   "source": [
    "try_eval(\"(define (make-withdraw balance) \\\n",
    "              (lambda (amount)\\\n",
    "                (begin\\\n",
    "                 (set! balance (- balance amount))\\\n",
    "                 balance)))\")\n",
    "\n",
    "try_eval(\"(define w1 (make-withdraw 100))\")\n",
    "try_eval(\"(define w2 (make-withdraw 100))\")\n",
    "\n",
    "\n",
    "try_eval(\"(w1 10)\")\n",
    "try_eval(\"(w1 20)\")\n",
    "try_eval(\"(w2 20)\")"
   ]
  },
  {
   "cell_type": "code",
   "execution_count": null,
   "id": "7ca96237-b5e5-425a-87aa-036eb9939806",
   "metadata": {},
   "outputs": [],
   "source": []
  },
  {
   "cell_type": "code",
   "execution_count": null,
   "id": "1c63696d-c81d-4db2-a45f-7f420f40f951",
   "metadata": {},
   "outputs": [],
   "source": []
  },
  {
   "cell_type": "code",
   "execution_count": null,
   "id": "a5a3c1eb-86ed-43f4-8295-dde6effbb91e",
   "metadata": {},
   "outputs": [],
   "source": []
  },
  {
   "cell_type": "code",
   "execution_count": null,
   "id": "cd343771-83dc-434b-989c-236afad82aa7",
   "metadata": {},
   "outputs": [],
   "source": []
  },
  {
   "cell_type": "code",
   "execution_count": null,
   "id": "f1528651-c7df-4f3d-8de2-eeca15c05567",
   "metadata": {},
   "outputs": [],
   "source": []
  }
 ],
 "metadata": {
  "kernelspec": {
   "display_name": "Python 3 (ipykernel)",
   "language": "python",
   "name": "python3"
  },
  "language_info": {
   "codemirror_mode": {
    "name": "ipython",
    "version": 3
   },
   "file_extension": ".py",
   "mimetype": "text/x-python",
   "name": "python",
   "nbconvert_exporter": "python",
   "pygments_lexer": "ipython3",
   "version": "3.9.12"
  }
 },
 "nbformat": 4,
 "nbformat_minor": 5
}
